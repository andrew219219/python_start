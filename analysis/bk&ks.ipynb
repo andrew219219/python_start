{
 "cells": [
  {
   "cell_type": "code",
   "execution_count": 1,
   "metadata": {},
   "outputs": [],
   "source": [
    "import pandas as pd\n",
    "import os"
   ]
  },
  {
   "cell_type": "code",
   "execution_count": 5,
   "metadata": {},
   "outputs": [],
   "source": [
    "beke_data = pd.read_csv(os.path.join(os.path.dirname(os.path.abspath('.')), \"data\", \"database\", \"BEKE.csv\"))"
   ]
  },
  {
   "cell_type": "code",
   "execution_count": 7,
   "metadata": {},
   "outputs": [],
   "source": [
    "ks_data = pd.read_csv(os.path.join(os.path.dirname(os.path.abspath('.')), \"data\", \"database\", \"1024.HK.csv\"))"
   ]
  },
  {
   "cell_type": "code",
   "execution_count": 20,
   "metadata": {},
   "outputs": [],
   "source": [
    "beke_data['close_pct'] = (beke_data['Adj Close'] - beke_data['Adj Close'].shift(1)) / beke_data['Adj Close'].shift(1)\n",
    "ks_data['close_pct'] = (ks_data['Adj Close'] - ks_data['Adj Close'].shift(1)) / ks_data['Adj Close'].shift(1)"
   ]
  },
  {
   "cell_type": "code",
   "execution_count": 24,
   "metadata": {},
   "outputs": [],
   "source": [
    "merge_data = pd.merge(beke_data, ks_data, on='Date', how='outer')"
   ]
  },
  {
   "cell_type": "code",
   "execution_count": 28,
   "metadata": {},
   "outputs": [],
   "source": [
    "merge_data.sort_values('Date', inplace = True)"
   ]
  },
  {
   "cell_type": "code",
   "execution_count": 36,
   "metadata": {},
   "outputs": [],
   "source": [
    "merge_data=merge_data[merge_data['close_pct_y'].notnull()]"
   ]
  },
  {
   "cell_type": "code",
   "execution_count": 40,
   "metadata": {},
   "outputs": [],
   "source": [
    "merge_data['same'] = merge_data['close_pct_x'] * merge_data['close_pct_y'] > 0"
   ]
  },
  {
   "cell_type": "code",
   "execution_count": 46,
   "metadata": {},
   "outputs": [
    {
     "data": {
      "text/plain": [
       "0.5728155339805825"
      ]
     },
     "execution_count": 46,
     "metadata": {},
     "output_type": "execute_result"
    }
   ],
   "source": [
    "merge_data[merge_data['same'] == True].shape[0] / merge_data.shape[0]"
   ]
  }
 ],
 "metadata": {
  "interpreter": {
   "hash": "70198ba75976c353c1e896ab2033008b5c948b1361f03b59d2ad5404abe4eaf2"
  },
  "kernelspec": {
   "display_name": "Python 3.10.4 ('office')",
   "language": "python",
   "name": "python3"
  },
  "language_info": {
   "codemirror_mode": {
    "name": "ipython",
    "version": 3
   },
   "file_extension": ".py",
   "mimetype": "text/x-python",
   "name": "python",
   "nbconvert_exporter": "python",
   "pygments_lexer": "ipython3",
   "version": "3.10.4"
  },
  "orig_nbformat": 4
 },
 "nbformat": 4,
 "nbformat_minor": 2
}
