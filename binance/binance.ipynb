{
 "cells": [
  {
   "cell_type": "code",
   "execution_count": 98,
   "id": "46a0e6f3",
   "metadata": {},
   "outputs": [],
   "source": [
    "from binance.spot import Spot \n",
    "import pandas as pd\n",
    "import talib"
   ]
  },
  {
   "cell_type": "code",
   "execution_count": null,
   "id": "5bb95abd",
   "metadata": {},
   "outputs": [],
   "source": []
  },
  {
   "cell_type": "code",
   "execution_count": 99,
   "id": "a3425e43",
   "metadata": {},
   "outputs": [],
   "source": [
    "client = Spot()"
   ]
  },
  {
   "cell_type": "code",
   "execution_count": 100,
   "id": "2529bafc",
   "metadata": {},
   "outputs": [
    {
     "name": "stdout",
     "output_type": "stream",
     "text": [
      "{'serverTime': 1653146905238}\n"
     ]
    }
   ],
   "source": [
    "print(client.time())"
   ]
  },
  {
   "cell_type": "code",
   "execution_count": 101,
   "id": "a772d11f",
   "metadata": {},
   "outputs": [],
   "source": [
    "Tickers = (\"BTCUSDT\", \"ETHUSDT\", \"APEUSDT\", \"GMTUSDT\")"
   ]
  },
  {
   "cell_type": "code",
   "execution_count": 102,
   "id": "05aee778",
   "metadata": {},
   "outputs": [],
   "source": [
    "KLINES = [client.klines(ticker, \"1d\") for ticker in Tickers]"
   ]
  },
  {
   "cell_type": "code",
   "execution_count": 103,
   "id": "718ee8bb",
   "metadata": {},
   "outputs": [],
   "source": [
    "KLINES_df = [pd.DataFrame(kline, columns=['Open time', 'Open', 'High', 'Low', 'Close', 'Volume', 'Close time', 'Quote asset volume', 'Number of trades',\n",
    "                                 'Taker buy base asset volume', 'Taker buy quote asset volume', 'Ignore.']) for kline in KLINES]"
   ]
  },
  {
   "cell_type": "code",
   "execution_count": 104,
   "id": "63ffaf46",
   "metadata": {},
   "outputs": [],
   "source": [
    "for index, value in enumerate(Tickers):\n",
    "    KLINES_df[index]['ticker'] = value"
   ]
  },
  {
   "cell_type": "code",
   "execution_count": 105,
   "id": "4ad10331",
   "metadata": {},
   "outputs": [],
   "source": [
    "df = pd.concat(KLINES_df)"
   ]
  },
  {
   "cell_type": "code",
   "execution_count": 106,
   "id": "061905f4",
   "metadata": {},
   "outputs": [],
   "source": [
    "df['Open time'] = pd.to_datetime(df['Open time'], unit='ms', utc=True)\n",
    "df['Close time'] = pd.to_datetime(df['Close time'], unit='ms', utc=True)"
   ]
  },
  {
   "cell_type": "code",
   "execution_count": 112,
   "id": "1ba6b168",
   "metadata": {},
   "outputs": [
    {
     "data": {
      "text/plain": [
       "(0              NaN\n",
       " 1              NaN\n",
       " 2              NaN\n",
       " 3              NaN\n",
       " 4              NaN\n",
       "           ...     \n",
       " 495   -2725.019481\n",
       " 496   -2761.146384\n",
       " 497   -2630.037645\n",
       " 498   -2586.547919\n",
       " 499   -2514.508300\n",
       " Length: 500, dtype: float64,\n",
       " 0              NaN\n",
       " 1              NaN\n",
       " 2              NaN\n",
       " 3              NaN\n",
       " 4              NaN\n",
       "           ...     \n",
       " 495   -2541.663715\n",
       " 496   -2585.560248\n",
       " 497   -2594.455728\n",
       " 498   -2592.874166\n",
       " 499   -2577.200993\n",
       " Length: 500, dtype: float64,\n",
       " 0             NaN\n",
       " 1             NaN\n",
       " 2             NaN\n",
       " 3             NaN\n",
       " 4             NaN\n",
       "           ...    \n",
       " 495   -183.355767\n",
       " 496   -175.586136\n",
       " 497    -35.581917\n",
       " 498      6.326247\n",
       " 499     62.692693\n",
       " Length: 500, dtype: float64)"
      ]
     },
     "execution_count": 112,
     "metadata": {},
     "output_type": "execute_result"
    }
   ],
   "source": [
    "dw = pd.DataFrame()\n",
    "talib.MACD(df[df['ticker'] == 'BTCUSDT']['Close'], fastperiod=12, slowperiod=26, signalperiod=9)"
   ]
  },
  {
   "cell_type": "code",
   "execution_count": 111,
   "id": "37f467e2",
   "metadata": {},
   "outputs": [
    {
     "data": {
      "text/plain": [
       "0      39432.28000000\n",
       "1      40582.81000000\n",
       "2      40088.22000000\n",
       "3      38150.02000000\n",
       "4      35404.47000000\n",
       "            ...      \n",
       "495    30444.93000000\n",
       "496    28715.32000000\n",
       "497    30319.23000000\n",
       "498    29201.01000000\n",
       "499    29307.44000000\n",
       "Name: Close, Length: 500, dtype: object"
      ]
     },
     "execution_count": 111,
     "metadata": {},
     "output_type": "execute_result"
    }
   ],
   "source": [
    "df[df['ticker'] == 'BTCUSDT']['Close']"
   ]
  },
  {
   "cell_type": "code",
   "execution_count": null,
   "id": "4c838652",
   "metadata": {},
   "outputs": [
    {
     "ename": "NameError",
     "evalue": "name 'talib' is not defined",
     "output_type": "error",
     "traceback": [
      "\u001b[0;31m---------------------------------------------------------------------------\u001b[0m",
      "\u001b[0;31mNameError\u001b[0m                                 Traceback (most recent call last)",
      "\u001b[1;32m/home/wanggh/dpan/code/python_start/binance/binance.ipynb Cell 11'\u001b[0m in \u001b[0;36m<cell line: 1>\u001b[0;34m()\u001b[0m\n\u001b[0;32m----> <a href='vscode-notebook-cell://wsl%2Bcentos7/home/wanggh/dpan/code/python_start/binance/binance.ipynb#ch0000016vscode-remote?line=0'>1</a>\u001b[0m talib\n",
      "\u001b[0;31mNameError\u001b[0m: name 'talib' is not defined"
     ]
    }
   ],
   "source": [
    "talib"
   ]
  },
  {
   "cell_type": "code",
   "execution_count": null,
   "id": "ccb4c49f",
   "metadata": {},
   "outputs": [],
   "source": [
    "KLINES"
   ]
  }
 ],
 "metadata": {
  "interpreter": {
   "hash": "70198ba75976c353c1e896ab2033008b5c948b1361f03b59d2ad5404abe4eaf2"
  },
  "kernelspec": {
   "display_name": "Python 3.10.4 ('office')",
   "language": "python",
   "name": "python3"
  },
  "language_info": {
   "codemirror_mode": {
    "name": "ipython",
    "version": 3
   },
   "file_extension": ".py",
   "mimetype": "text/x-python",
   "name": "python",
   "nbconvert_exporter": "python",
   "pygments_lexer": "ipython3",
   "version": "3.10.4"
  }
 },
 "nbformat": 4,
 "nbformat_minor": 5
}
